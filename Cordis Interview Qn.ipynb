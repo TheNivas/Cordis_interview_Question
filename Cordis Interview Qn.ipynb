{
 "cells": [
  {
   "cell_type": "markdown",
   "id": "9dde6a1e",
   "metadata": {},
   "source": [
    "Write a program to check if a number “N” can be written in sum of the powers of 5. The coefficients of 5p should always be 1 and p should be unique in the summation series.\n",
    "### N = ∑5<sup>p</sup>\n",
    "\n",
    "If representation is not possible; print **“Failed”**.<br>\n",
    "If representation is possible; print **“Passed”**.<br>\n",
    "Print for the below Numbers if they pass or fail the test and record your output.\n",
    "\n",
    "|Test Number  | Output |\n",
    "| :---------- | ------ |\n",
    "|394376       |        |\n",
    "|421875       |        |\n",
    "|390625       |        |\n",
    "|781250       |        |\n",
    "|484377       |        |\n",
    "\n",
    "Please send the output table along with your program to the coordinator.<br>\n",
    "**Example:** \n",
    "31, 26 and 130 pass the test because they can be written as summation of powers of 5 with \n",
    "coefficients 1.<br>\n",
    "31 =  5<sup>2</sup> + 5<sup>1</sup>+ 5<sup>0</sup>  <br>\n",
    "26 =  5<sup>2</sup> + 5<sup>0</sup><br>\n",
    "130 = 5<sup>3</sup>+ 5<sup>1</sup><br>\n",
    "35 fails the test because it cannot be written in sum of powers of 5 with coefficients 1. Here, the \n",
    "coefficient of 51 is 2; thus it fails the test.<br>\n",
    "35 = 5<sup>2</sup>+ 2 x 5<sup>1</sup><br>\n",
    "128 fails the test because it cannot be written in the sum of powers of 5 with coefficients 1. Here, \n",
    "the coefficient of 50 is 3; thus it fails the test.<br>\n",
    "128 = 5<sup>3</sup> + 3 x 5<sup>0</sup><br><br>\n",
    "Example Output: <br>\n",
    "\n",
    "|Test Number  | Output |\n",
    "| :----------- | ------ |\n",
    "| 31          |PASSED  |\n",
    "|26           |PASSED  |\n",
    "|130          |PASSED  |\n",
    "|35           |FAILED  |\n",
    "|128          |FAILED  |"
   ]
  },
  {
   "cell_type": "code",
   "execution_count": 4,
   "id": "64c688f2",
   "metadata": {},
   "outputs": [
    {
     "name": "stdout",
     "output_type": "stream",
     "text": [
      "394376: Passed\n",
      "421875: failed\n",
      "390625: Passed\n",
      "781250: failed\n",
      "484377: failed\n"
     ]
    }
   ],
   "source": [
    "# in decreasing order\n",
    "def Check_Power_Of_Five(number):\n",
    "    for i in range(10,-1,-1):\n",
    "        x = 5**i\n",
    "        if x <= number: number -= x\n",
    "        if number == 0: return \"Passed\"\n",
    "    return \"failed\"\n",
    "\n",
    "numbers = [394376, 421875, 390625, 781250, 484377]\n",
    "for number in numbers:\n",
    "    print(f'{number}: {Check_Power_Of_Five(number)}')"
   ]
  },
  {
   "cell_type": "code",
   "execution_count": 2,
   "id": "68c0a928",
   "metadata": {},
   "outputs": [
    {
     "name": "stdout",
     "output_type": "stream",
     "text": [
      "Examples: \n",
      " 31: Passed\n",
      " 26: Passed\n",
      "130: Passed\n",
      " 35: Failed\n",
      "128: Failed\n",
      "\n",
      "Test Cases:\n",
      "394376: Passed\n",
      "421875: Failed\n",
      "390625: Passed\n",
      "781250: Failed\n",
      "484377: Failed\n"
     ]
    }
   ],
   "source": [
    "# REcursive Function\n",
    "def sum_power_five(number, x):\n",
    "    if number== 0:\n",
    "        return \"Passed\"\n",
    "    while x<=number:\n",
    "        if sum_power_five(number-x, x*5) == \"Passed\":\n",
    "            return \"Passed\"\n",
    "        x*=5\n",
    "    return \"Failed\"\n",
    "\n",
    "x = 1\n",
    "checks = [31, 26, 130, 35, 128]\n",
    "numbers = [394376, 421875, 390625, 781250, 484377]\n",
    "\n",
    "print(\"Examples: \")\n",
    "for check in checks:\n",
    "    print(\"{:>3}: {}\".format(check, sum_power_five(check,x)))\n",
    "print()\n",
    "print(\"Test Cases:\")\n",
    "for number in numbers:\n",
    "    print(f'{number}: {sum_power_five(number,x)}')"
   ]
  },
  {
   "cell_type": "code",
   "execution_count": 5,
   "id": "840db3e7",
   "metadata": {},
   "outputs": [
    {
     "data": {
      "text/plain": [
       "[7, 11, 13]"
      ]
     },
     "execution_count": 5,
     "metadata": {},
     "output_type": "execute_result"
    }
   ],
   "source": [
    "def mystery(l):\n",
    "    l = l[1:]\n",
    "    return()\n",
    "number = [7,11,13]\n",
    "mystery(number)\n",
    "number"
   ]
  },
  {
   "cell_type": "code",
   "execution_count": null,
   "id": "e5b84d5f",
   "metadata": {},
   "outputs": [],
   "source": []
  }
 ],
 "metadata": {
  "interpreter": {
   "hash": "b57f86e2058aacc65ffc15b7630cf780e22efbfac49453b939eb0271ff6ddaa4"
  },
  "kernelspec": {
   "display_name": "Python 3 (ipykernel)",
   "language": "python",
   "name": "python3"
  },
  "language_info": {
   "codemirror_mode": {
    "name": "ipython",
    "version": 3
   },
   "file_extension": ".py",
   "mimetype": "text/x-python",
   "name": "python",
   "nbconvert_exporter": "python",
   "pygments_lexer": "ipython3",
   "version": "3.9.7"
  }
 },
 "nbformat": 4,
 "nbformat_minor": 5
}
